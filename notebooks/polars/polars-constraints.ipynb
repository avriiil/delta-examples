{
 "cells": [
  {
   "cell_type": "markdown",
   "id": "79d5185c-6e30-4f3d-89cb-e533bd08855a",
   "metadata": {},
   "source": [
    "# Delta Lake Polars constraints"
   ]
  },
  {
   "cell_type": "code",
   "execution_count": 1,
   "id": "50306c03-e47a-4120-a3ab-4b0411a1346c",
   "metadata": {},
   "outputs": [],
   "source": [
    "import polars as pl\n",
    "from deltalake import DeltaTable"
   ]
  },
  {
   "cell_type": "code",
   "execution_count": 2,
   "id": "52617fe3-1e6f-40b8-9970-1b069cc447c4",
   "metadata": {},
   "outputs": [
    {
     "data": {
      "text/plain": [
       "polars.config.Config"
      ]
     },
     "execution_count": 2,
     "metadata": {},
     "output_type": "execute_result"
    }
   ],
   "source": [
    "pl.Config.set_ascii_tables(True)"
   ]
  },
  {
   "cell_type": "markdown",
   "id": "878c5bfa-11f8-478a-8489-54dd4460059b",
   "metadata": {},
   "source": [
    "## Create a Delta table"
   ]
  },
  {
   "cell_type": "code",
   "execution_count": 3,
   "id": "a27d87aa-790a-49de-b58a-599944aa066d",
   "metadata": {},
   "outputs": [],
   "source": [
    "df = pl.DataFrame({\"name\": [\"mary\", \"joe\", \"sue\"], \"age\": [11, 22, 33]})"
   ]
  },
  {
   "cell_type": "code",
   "execution_count": 4,
   "id": "2efa3630-c0ff-4f20-8852-7da0c9da8dd3",
   "metadata": {},
   "outputs": [],
   "source": [
    "df.write_delta(\"tmp/cool-table\")"
   ]
  },
  {
   "cell_type": "code",
   "execution_count": 6,
   "id": "0cd2589d-831a-4563-99eb-aed3cec94ceb",
   "metadata": {},
   "outputs": [
    {
     "name": "stdout",
     "output_type": "stream",
     "text": [
      "shape: (3, 2)\n",
      "+------+-----+\n",
      "| name | age |\n",
      "| ---  | --- |\n",
      "| str  | i64 |\n",
      "+============+\n",
      "| mary | 11  |\n",
      "| joe  | 22  |\n",
      "| sue  | 33  |\n",
      "+------+-----+\n"
     ]
    }
   ],
   "source": [
    "print(pl.read_delta(\"tmp/cool-table\"))"
   ]
  },
  {
   "cell_type": "markdown",
   "id": "68d891a3-3e33-44d6-b3bd-13b4c80be266",
   "metadata": {},
   "source": [
    "## Add a constraint"
   ]
  },
  {
   "cell_type": "code",
   "execution_count": 8,
   "id": "b5b68e91-3213-4267-97e9-b0de0483fed5",
   "metadata": {},
   "outputs": [],
   "source": [
    "dt = DeltaTable(\"tmp/cool-table\")\n",
    "dt.alter.add_constraint({\"age_gt_0\": \"age > 0\"})"
   ]
  },
  {
   "cell_type": "markdown",
   "id": "c773e149-227e-4e44-887f-43b45f056f52",
   "metadata": {},
   "source": [
    "## Verify the constraint works"
   ]
  },
  {
   "cell_type": "code",
   "execution_count": 9,
   "id": "d5086349-e299-483a-bec1-dca192f9cda7",
   "metadata": {},
   "outputs": [],
   "source": [
    "df = pl.DataFrame({\"name\": [\"tom\", \"luis\"], \"age\": [65, -45]})"
   ]
  },
  {
   "cell_type": "code",
   "execution_count": 10,
   "id": "fd548328-1efa-4ba1-8f34-f4f194001173",
   "metadata": {},
   "outputs": [
    {
     "ename": "DeltaProtocolError",
     "evalue": "This table's min_writer_version is 3, but this method only supports version 2.",
     "output_type": "error",
     "traceback": [
      "\u001b[0;31m---------------------------------------------------------------------------\u001b[0m",
      "\u001b[0;31mDeltaProtocolError\u001b[0m                        Traceback (most recent call last)",
      "Cell \u001b[0;32mIn[10], line 1\u001b[0m\n\u001b[0;32m----> 1\u001b[0m \u001b[43mdf\u001b[49m\u001b[38;5;241;43m.\u001b[39;49m\u001b[43mwrite_delta\u001b[49m\u001b[43m(\u001b[49m\u001b[38;5;124;43m\"\u001b[39;49m\u001b[38;5;124;43mtmp/cool-table\u001b[39;49m\u001b[38;5;124;43m\"\u001b[39;49m\u001b[43m,\u001b[49m\u001b[43m \u001b[49m\u001b[43mmode\u001b[49m\u001b[38;5;241;43m=\u001b[39;49m\u001b[38;5;124;43m\"\u001b[39;49m\u001b[38;5;124;43mappend\u001b[39;49m\u001b[38;5;124;43m\"\u001b[39;49m\u001b[43m)\u001b[49m\n",
      "File \u001b[0;32m~/opt/miniconda3/envs/deltalake-0151/lib/python3.9/site-packages/polars/dataframe/frame.py:3864\u001b[0m, in \u001b[0;36mDataFrame.write_delta\u001b[0;34m(self, target, mode, overwrite_schema, storage_options, delta_write_options, delta_merge_options)\u001b[0m\n\u001b[1;32m   3861\u001b[0m     delta_write_options \u001b[38;5;241m=\u001b[39m {}\n\u001b[1;32m   3863\u001b[0m schema \u001b[38;5;241m=\u001b[39m delta_write_options\u001b[38;5;241m.\u001b[39mpop(\u001b[38;5;124m\"\u001b[39m\u001b[38;5;124mschema\u001b[39m\u001b[38;5;124m\"\u001b[39m, \u001b[38;5;28;01mNone\u001b[39;00m)\n\u001b[0;32m-> 3864\u001b[0m \u001b[43mwrite_deltalake\u001b[49m\u001b[43m(\u001b[49m\n\u001b[1;32m   3865\u001b[0m \u001b[43m    \u001b[49m\u001b[43mtable_or_uri\u001b[49m\u001b[38;5;241;43m=\u001b[39;49m\u001b[43mtarget\u001b[49m\u001b[43m,\u001b[49m\n\u001b[1;32m   3866\u001b[0m \u001b[43m    \u001b[49m\u001b[43mdata\u001b[49m\u001b[38;5;241;43m=\u001b[39;49m\u001b[43mdata\u001b[49m\u001b[43m,\u001b[49m\n\u001b[1;32m   3867\u001b[0m \u001b[43m    \u001b[49m\u001b[43mschema\u001b[49m\u001b[38;5;241;43m=\u001b[39;49m\u001b[43mschema\u001b[49m\u001b[43m,\u001b[49m\n\u001b[1;32m   3868\u001b[0m \u001b[43m    \u001b[49m\u001b[43mmode\u001b[49m\u001b[38;5;241;43m=\u001b[39;49m\u001b[43mmode\u001b[49m\u001b[43m,\u001b[49m\n\u001b[1;32m   3869\u001b[0m \u001b[43m    \u001b[49m\u001b[43moverwrite_schema\u001b[49m\u001b[38;5;241;43m=\u001b[39;49m\u001b[43moverwrite_schema\u001b[49m\u001b[43m,\u001b[49m\n\u001b[1;32m   3870\u001b[0m \u001b[43m    \u001b[49m\u001b[43mstorage_options\u001b[49m\u001b[38;5;241;43m=\u001b[39;49m\u001b[43mstorage_options\u001b[49m\u001b[43m,\u001b[49m\n\u001b[1;32m   3871\u001b[0m \u001b[43m    \u001b[49m\u001b[43mlarge_dtypes\u001b[49m\u001b[38;5;241;43m=\u001b[39;49m\u001b[38;5;28;43;01mTrue\u001b[39;49;00m\u001b[43m,\u001b[49m\n\u001b[1;32m   3872\u001b[0m \u001b[43m    \u001b[49m\u001b[38;5;241;43m*\u001b[39;49m\u001b[38;5;241;43m*\u001b[39;49m\u001b[43mdelta_write_options\u001b[49m\u001b[43m,\u001b[49m\n\u001b[1;32m   3873\u001b[0m \u001b[43m\u001b[49m\u001b[43m)\u001b[49m\n\u001b[1;32m   3874\u001b[0m \u001b[38;5;28;01mreturn\u001b[39;00m \u001b[38;5;28;01mNone\u001b[39;00m\n",
      "File \u001b[0;32m~/opt/miniconda3/envs/deltalake-0151/lib/python3.9/site-packages/deltalake/writer.py:402\u001b[0m, in \u001b[0;36mwrite_deltalake\u001b[0;34m(table_or_uri, data, schema, partition_by, filesystem, mode, file_options, max_partitions, max_open_files, max_rows_per_file, min_rows_per_group, max_rows_per_group, name, description, configuration, overwrite_schema, storage_options, partition_filters, predicate, large_dtypes, engine, writer_properties, custom_metadata)\u001b[0m\n\u001b[1;32m    398\u001b[0m \u001b[38;5;28;01mif\u001b[39;00m table \u001b[38;5;129;01mis\u001b[39;00m \u001b[38;5;129;01mnot\u001b[39;00m \u001b[38;5;28;01mNone\u001b[39;00m:\n\u001b[1;32m    399\u001b[0m     \u001b[38;5;66;03m# We don't currently provide a way to set invariants\u001b[39;00m\n\u001b[1;32m    400\u001b[0m     \u001b[38;5;66;03m# (and maybe never will), so only enforce if already exist.\u001b[39;00m\n\u001b[1;32m    401\u001b[0m     \u001b[38;5;28;01mif\u001b[39;00m table\u001b[38;5;241m.\u001b[39mprotocol()\u001b[38;5;241m.\u001b[39mmin_writer_version \u001b[38;5;241m>\u001b[39m MAX_SUPPORTED_WRITER_VERSION:\n\u001b[0;32m--> 402\u001b[0m         \u001b[38;5;28;01mraise\u001b[39;00m DeltaProtocolError(\n\u001b[1;32m    403\u001b[0m             \u001b[38;5;124m\"\u001b[39m\u001b[38;5;124mThis table\u001b[39m\u001b[38;5;124m'\u001b[39m\u001b[38;5;124ms min_writer_version is \u001b[39m\u001b[38;5;124m\"\u001b[39m\n\u001b[1;32m    404\u001b[0m             \u001b[38;5;124mf\u001b[39m\u001b[38;5;124m\"\u001b[39m\u001b[38;5;132;01m{\u001b[39;00mtable\u001b[38;5;241m.\u001b[39mprotocol()\u001b[38;5;241m.\u001b[39mmin_writer_version\u001b[38;5;132;01m}\u001b[39;00m\u001b[38;5;124m, \u001b[39m\u001b[38;5;124m\"\u001b[39m\n\u001b[1;32m    405\u001b[0m             \u001b[38;5;124m\"\u001b[39m\u001b[38;5;124mbut this method only supports version 2.\u001b[39m\u001b[38;5;124m\"\u001b[39m\n\u001b[1;32m    406\u001b[0m         )\n\u001b[1;32m    408\u001b[0m     invariants \u001b[38;5;241m=\u001b[39m table\u001b[38;5;241m.\u001b[39mschema()\u001b[38;5;241m.\u001b[39minvariants\n\u001b[1;32m    409\u001b[0m     checker \u001b[38;5;241m=\u001b[39m _DeltaDataChecker(invariants)\n",
      "\u001b[0;31mDeltaProtocolError\u001b[0m: This table's min_writer_version is 3, but this method only supports version 2."
     ]
    }
   ],
   "source": [
    "df.write_delta(\"tmp/cool-table\", mode=\"append\")"
   ]
  },
  {
   "cell_type": "code",
   "execution_count": null,
   "id": "621547c3-aa52-4463-aa3b-87b830abaf57",
   "metadata": {},
   "outputs": [],
   "source": []
  }
 ],
 "metadata": {
  "kernelspec": {
   "display_name": "deltalake-0151",
   "language": "python",
   "name": "deltalake-0151"
  },
  "language_info": {
   "codemirror_mode": {
    "name": "ipython",
    "version": 3
   },
   "file_extension": ".py",
   "mimetype": "text/x-python",
   "name": "python",
   "nbconvert_exporter": "python",
   "pygments_lexer": "ipython3",
   "version": "3.9.18"
  }
 },
 "nbformat": 4,
 "nbformat_minor": 5
}
