{
 "cells": [
  {
   "cell_type": "markdown",
   "id": "79d5185c-6e30-4f3d-89cb-e533bd08855a",
   "metadata": {},
   "source": [
    "# Delta Lake Polars constraints"
   ]
  },
  {
   "cell_type": "code",
   "execution_count": 1,
   "id": "50306c03-e47a-4120-a3ab-4b0411a1346c",
   "metadata": {},
   "outputs": [],
   "source": [
    "import polars as pl\n",
    "from deltalake import DeltaTable"
   ]
  },
  {
   "cell_type": "code",
   "execution_count": 2,
   "id": "52617fe3-1e6f-40b8-9970-1b069cc447c4",
   "metadata": {},
   "outputs": [
    {
     "data": {
      "text/plain": [
       "polars.config.Config"
      ]
     },
     "execution_count": 2,
     "metadata": {},
     "output_type": "execute_result"
    }
   ],
   "source": [
    "pl.Config.set_ascii_tables(True)"
   ]
  },
  {
   "cell_type": "markdown",
   "id": "878c5bfa-11f8-478a-8489-54dd4460059b",
   "metadata": {},
   "source": [
    "## Create a Delta table"
   ]
  },
  {
   "cell_type": "code",
   "execution_count": 3,
   "id": "a27d87aa-790a-49de-b58a-599944aa066d",
   "metadata": {},
   "outputs": [],
   "source": [
    "df = pl.DataFrame({\"name\": [\"mary\", \"joe\", \"sue\"], \"age\": [11, 22, 33]})"
   ]
  },
  {
   "cell_type": "code",
   "execution_count": 4,
   "id": "2efa3630-c0ff-4f20-8852-7da0c9da8dd3",
   "metadata": {},
   "outputs": [],
   "source": [
    "df.write_delta(\"tmp/cool-table\")"
   ]
  },
  {
   "cell_type": "code",
   "execution_count": 5,
   "id": "0cd2589d-831a-4563-99eb-aed3cec94ceb",
   "metadata": {},
   "outputs": [
    {
     "name": "stdout",
     "output_type": "stream",
     "text": [
      "shape: (3, 2)\n",
      "+------+-----+\n",
      "| name | age |\n",
      "| ---  | --- |\n",
      "| str  | i64 |\n",
      "+============+\n",
      "| mary | 11  |\n",
      "| joe  | 22  |\n",
      "| sue  | 33  |\n",
      "+------+-----+\n"
     ]
    }
   ],
   "source": [
    "print(pl.read_delta(\"tmp/cool-table\"))"
   ]
  },
  {
   "cell_type": "markdown",
   "id": "68d891a3-3e33-44d6-b3bd-13b4c80be266",
   "metadata": {},
   "source": [
    "## Add a constraint"
   ]
  },
  {
   "cell_type": "code",
   "execution_count": 6,
   "id": "b5b68e91-3213-4267-97e9-b0de0483fed5",
   "metadata": {},
   "outputs": [],
   "source": [
    "dt = DeltaTable(\"tmp/cool-table\")\n",
    "dt.alter.add_constraint({\"age_gt_0\": \"age > 0\"})"
   ]
  },
  {
   "cell_type": "markdown",
   "id": "c773e149-227e-4e44-887f-43b45f056f52",
   "metadata": {},
   "source": [
    "## Verify the constraint works"
   ]
  },
  {
   "cell_type": "code",
   "execution_count": 2,
   "id": "d5086349-e299-483a-bec1-dca192f9cda7",
   "metadata": {},
   "outputs": [],
   "source": [
    "df = pl.DataFrame({\"name\": [\"tom\", \"luis\"], \"age\": [65, -45]})"
   ]
  },
  {
   "cell_type": "code",
   "execution_count": 3,
   "id": "fd548328-1efa-4ba1-8f34-f4f194001173",
   "metadata": {},
   "outputs": [
    {
     "ename": "TypeError",
     "evalue": "write_delta() got an unexpected keyword argument 'engine'",
     "output_type": "error",
     "traceback": [
      "\u001b[0;31m---------------------------------------------------------------------------\u001b[0m",
      "\u001b[0;31mTypeError\u001b[0m                                 Traceback (most recent call last)",
      "Cell \u001b[0;32mIn[3], line 1\u001b[0m\n\u001b[0;32m----> 1\u001b[0m \u001b[43mdf\u001b[49m\u001b[38;5;241;43m.\u001b[39;49m\u001b[43mwrite_delta\u001b[49m\u001b[43m(\u001b[49m\u001b[38;5;124;43m\"\u001b[39;49m\u001b[38;5;124;43mtmp/cool-table\u001b[39;49m\u001b[38;5;124;43m\"\u001b[39;49m\u001b[43m,\u001b[49m\u001b[43m \u001b[49m\u001b[43mmode\u001b[49m\u001b[38;5;241;43m=\u001b[39;49m\u001b[38;5;124;43m\"\u001b[39;49m\u001b[38;5;124;43mappend\u001b[39;49m\u001b[38;5;124;43m\"\u001b[39;49m\u001b[43m,\u001b[49m\u001b[43m \u001b[49m\u001b[43mengine\u001b[49m\u001b[38;5;241;43m=\u001b[39;49m\u001b[38;5;124;43m\"\u001b[39;49m\u001b[38;5;124;43mrust\u001b[39;49m\u001b[38;5;124;43m\"\u001b[39;49m\u001b[43m)\u001b[49m\n",
      "\u001b[0;31mTypeError\u001b[0m: write_delta() got an unexpected keyword argument 'engine'"
     ]
    }
   ],
   "source": [
    "df.write_delta(\"tmp/cool-table\", mode=\"append\", engine=\"rust\")"
   ]
  },
  {
   "cell_type": "code",
   "execution_count": null,
   "id": "621547c3-aa52-4463-aa3b-87b830abaf57",
   "metadata": {},
   "outputs": [],
   "source": []
  }
 ],
 "metadata": {
  "kernelspec": {
   "display_name": "deltalake-0151",
   "language": "python",
   "name": "deltalake-0151"
  },
  "language_info": {
   "codemirror_mode": {
    "name": "ipython",
    "version": 3
   },
   "file_extension": ".py",
   "mimetype": "text/x-python",
   "name": "python",
   "nbconvert_exporter": "python",
   "pygments_lexer": "ipython3",
   "version": "3.9.18"
  }
 },
 "nbformat": 4,
 "nbformat_minor": 5
}
