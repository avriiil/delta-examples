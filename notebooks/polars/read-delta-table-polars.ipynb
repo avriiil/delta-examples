{
 "cells": [
  {
   "cell_type": "markdown",
   "id": "30952780-3678-408f-b92f-fdcff6a91b30",
   "metadata": {},
   "source": [
    "# Read Delta Lake table with Polars\n",
    "\n",
    "This notebook works with the `delta-polars` environment."
   ]
  },
  {
   "cell_type": "code",
   "execution_count": 1,
   "id": "f851fa53-4bfc-4e32-985d-a124f10b98ce",
   "metadata": {},
   "outputs": [],
   "source": [
    "import polars as pl\n",
    "from deltalake import DeltaTable"
   ]
  },
  {
   "cell_type": "code",
   "execution_count": 50,
   "id": "3b069488-d877-4f74-802a-8b7b460c6df6",
   "metadata": {},
   "outputs": [
    {
     "data": {
      "text/plain": [
       "polars.config.Config"
      ]
     },
     "execution_count": 50,
     "metadata": {},
     "output_type": "execute_result"
    }
   ],
   "source": [
    "pl.Config.set_ascii_tables(True) "
   ]
  },
  {
   "cell_type": "markdown",
   "id": "195afc56-9be9-49a8-9dc0-9b86a1ea0c6b",
   "metadata": {},
   "source": [
    "## Create Delta table"
   ]
  },
  {
   "cell_type": "code",
   "execution_count": 17,
   "id": "d9310492-35ab-4d13-b978-b12c23641c37",
   "metadata": {},
   "outputs": [],
   "source": [
    "df = pl.DataFrame({\"x\": [1, 2, 3]})"
   ]
  },
  {
   "cell_type": "code",
   "execution_count": 18,
   "id": "1d66f20d-2c0b-4720-91c1-10324222226d",
   "metadata": {},
   "outputs": [],
   "source": [
    "df.write_delta(\"tmp/bear_delta_lake\")"
   ]
  },
  {
   "cell_type": "code",
   "execution_count": 19,
   "id": "a9811912-1860-46de-a555-f85a28fc92c5",
   "metadata": {},
   "outputs": [
    {
     "name": "stdout",
     "output_type": "stream",
     "text": [
      "shape: (3, 1)\n",
      "┌─────┐\n",
      "│ x   │\n",
      "│ --- │\n",
      "│ i64 │\n",
      "╞═════╡\n",
      "│ 1   │\n",
      "│ 2   │\n",
      "│ 3   │\n",
      "└─────┘\n"
     ]
    }
   ],
   "source": [
    "print(pl.read_delta(\"tmp/bear_delta_lake\"))"
   ]
  },
  {
   "cell_type": "markdown",
   "id": "5f8d0c48-d64f-4cef-8790-b46fb1e352b3",
   "metadata": {},
   "source": [
    "## Append to Delta table"
   ]
  },
  {
   "cell_type": "code",
   "execution_count": 20,
   "id": "cce7fdc1-88d2-4a28-9d40-911b31538eff",
   "metadata": {},
   "outputs": [],
   "source": [
    "df = pl.DataFrame({\"x\": [8, 9, 10]})"
   ]
  },
  {
   "cell_type": "code",
   "execution_count": 21,
   "id": "9a04244e-b4bf-45b6-bac5-48ca5e33eeb5",
   "metadata": {},
   "outputs": [],
   "source": [
    "df.write_delta(\"tmp/bear_delta_lake\", mode=\"append\")"
   ]
  },
  {
   "cell_type": "code",
   "execution_count": 22,
   "id": "e5f21f5a-1881-4db6-93fe-0602fd32b5d2",
   "metadata": {},
   "outputs": [
    {
     "name": "stdout",
     "output_type": "stream",
     "text": [
      "shape: (6, 1)\n",
      "┌─────┐\n",
      "│ x   │\n",
      "│ --- │\n",
      "│ i64 │\n",
      "╞═════╡\n",
      "│ 1   │\n",
      "│ 2   │\n",
      "│ 3   │\n",
      "│ 8   │\n",
      "│ 9   │\n",
      "│ 10  │\n",
      "└─────┘\n"
     ]
    }
   ],
   "source": [
    "print(pl.read_delta(\"tmp/bear_delta_lake\"))"
   ]
  },
  {
   "cell_type": "markdown",
   "id": "d89dbcc1-9a2f-4ace-bc72-ce6f144dc21d",
   "metadata": {},
   "source": [
    "## Overwrite Delta table"
   ]
  },
  {
   "cell_type": "code",
   "execution_count": 60,
   "id": "0a1e23ed-762a-4557-916c-e9a03c386bf9",
   "metadata": {},
   "outputs": [],
   "source": [
    "df3 = pl.DataFrame({\"x\": [55, 66, 77]})"
   ]
  },
  {
   "cell_type": "code",
   "execution_count": 61,
   "id": "0f47eea4-dd7c-43ef-9c4a-6d9f007b0f7c",
   "metadata": {},
   "outputs": [],
   "source": [
    "df3.write_delta(\"tmp/bear_delta_lake\", mode=\"overwrite\")"
   ]
  },
  {
   "cell_type": "code",
   "execution_count": 62,
   "id": "1c6b28a4-d50d-41e4-a310-f0ff66781437",
   "metadata": {},
   "outputs": [
    {
     "name": "stdout",
     "output_type": "stream",
     "text": [
      "shape: (3, 1)\n",
      "+-----+\n",
      "| x   |\n",
      "| --- |\n",
      "| i64 |\n",
      "+=====+\n",
      "| 55  |\n",
      "| 66  |\n",
      "| 77  |\n",
      "+-----+\n"
     ]
    }
   ],
   "source": [
    "print(pl.read_delta(\"tmp/bear_delta_lake\"))"
   ]
  },
  {
   "cell_type": "markdown",
   "id": "911c3bab-693b-48ca-a8da-736e5d893e33",
   "metadata": {},
   "source": [
    "## Lazy read with scan_delta"
   ]
  },
  {
   "cell_type": "code",
   "execution_count": 44,
   "id": "ff7c249a-1133-4456-99e8-5667a8de1d2a",
   "metadata": {},
   "outputs": [],
   "source": [
    "df = pl.scan_delta(\"tmp/bear_delta_lake\")"
   ]
  },
  {
   "cell_type": "code",
   "execution_count": 45,
   "id": "6100b48a-273e-4fed-ba63-1595c2a6b96b",
   "metadata": {},
   "outputs": [
    {
     "name": "stdout",
     "output_type": "stream",
     "text": [
      "shape: (3, 1)\n",
      "+-----+\n",
      "| x   |\n",
      "| --- |\n",
      "| i64 |\n",
      "+=====+\n",
      "| 55  |\n",
      "| 66  |\n",
      "| 77  |\n",
      "+-----+\n"
     ]
    }
   ],
   "source": [
    "print(df.collect())"
   ]
  },
  {
   "cell_type": "markdown",
   "id": "7c1397d6-ea32-4f4b-9112-c71270c53f69",
   "metadata": {},
   "source": [
    "## Confirm other versions are still accessible via time travel"
   ]
  },
  {
   "cell_type": "code",
   "execution_count": 46,
   "id": "fee5eb04-1bea-49a2-ac9c-79dc8abd2da9",
   "metadata": {},
   "outputs": [
    {
     "name": "stdout",
     "output_type": "stream",
     "text": [
      "shape: (6, 1)\n",
      "+-----+\n",
      "| x   |\n",
      "| --- |\n",
      "| i64 |\n",
      "+=====+\n",
      "| 1   |\n",
      "| 2   |\n",
      "| 3   |\n",
      "| 9   |\n",
      "| 8   |\n",
      "| 10  |\n",
      "+-----+\n"
     ]
    }
   ],
   "source": [
    "print(pl.read_delta(\"tmp/bear_delta_lake\", version=1))"
   ]
  },
  {
   "cell_type": "code",
   "execution_count": 47,
   "id": "fdca8ca8-c0e0-473a-9f28-f63f074158c3",
   "metadata": {},
   "outputs": [
    {
     "name": "stdout",
     "output_type": "stream",
     "text": [
      "shape: (3, 1)\n",
      "+-----+\n",
      "| x   |\n",
      "| --- |\n",
      "| i64 |\n",
      "+=====+\n",
      "| 1   |\n",
      "| 2   |\n",
      "| 3   |\n",
      "+-----+\n"
     ]
    }
   ],
   "source": [
    "print(pl.read_delta(\"tmp/bear_delta_lake\", version=0))"
   ]
  },
  {
   "cell_type": "code",
   "execution_count": 63,
   "id": "d2210c95-d164-4727-8878-7177377280f2",
   "metadata": {},
   "outputs": [
    {
     "name": "stdout",
     "output_type": "stream",
     "text": [
      "shape: (3, 1)\n",
      "+-----+\n",
      "| x   |\n",
      "| --- |\n",
      "| i64 |\n",
      "+=====+\n",
      "| 55  |\n",
      "| 66  |\n",
      "| 77  |\n",
      "+-----+\n"
     ]
    }
   ],
   "source": [
    "print(pl.read_delta(\"tmp/bear_delta_lake\"))"
   ]
  },
  {
   "cell_type": "markdown",
   "id": "4dd66173-2364-4743-a534-6a5d08062c40",
   "metadata": {},
   "source": [
    "## Text for image"
   ]
  },
  {
   "cell_type": "code",
   "execution_count": 48,
   "id": "16c05e40-9a3d-4262-8b2a-831a016a8312",
   "metadata": {},
   "outputs": [
    {
     "name": "stdout",
     "output_type": "stream",
     "text": [
      "shape: (3, 1)\n",
      "+-----+\n",
      "| x   |\n",
      "| --- |\n",
      "| i64 |\n",
      "+=====+\n",
      "| 1   |\n",
      "| 2   |\n",
      "| 3   |\n",
      "+-----+\n"
     ]
    }
   ],
   "source": [
    "import polars as pl\n",
    "\n",
    "print(pl.read_delta(\"tmp/bear_delta_lake\", version=0))"
   ]
  },
  {
   "cell_type": "code",
   "execution_count": null,
   "id": "986c61ca-1e0e-45f7-81a7-55764046a165",
   "metadata": {},
   "outputs": [],
   "source": []
  }
 ],
 "metadata": {
  "kernelspec": {
   "display_name": "deltalake-0151",
   "language": "python",
   "name": "deltalake-0151"
  },
  "language_info": {
   "codemirror_mode": {
    "name": "ipython",
    "version": 3
   },
   "file_extension": ".py",
   "mimetype": "text/x-python",
   "name": "python",
   "nbconvert_exporter": "python",
   "pygments_lexer": "ipython3",
   "version": "3.9.18"
  }
 },
 "nbformat": 4,
 "nbformat_minor": 5
}
