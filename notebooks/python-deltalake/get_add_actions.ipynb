{
 "cells": [
  {
   "cell_type": "markdown",
   "id": "ce21de35-6424-40e2-84dd-0ff5cd2d1731",
   "metadata": {},
   "source": [
    "# Python deltalake get_add_actions"
   ]
  },
  {
   "cell_type": "code",
   "execution_count": 1,
   "id": "c85504a0-bb99-4340-b605-72cebbb7af27",
   "metadata": {},
   "outputs": [],
   "source": [
    "from deltalake import write_deltalake, DeltaTable\n",
    "import pandas as pd"
   ]
  },
  {
   "cell_type": "markdown",
   "id": "b97b2703-e02a-402d-9d41-b485c52a4819",
   "metadata": {},
   "source": [
    "## Unpartitioned table"
   ]
  },
  {
   "cell_type": "code",
   "execution_count": 2,
   "id": "f26daa9a-4af8-41b9-b6ac-5828bcc63f68",
   "metadata": {},
   "outputs": [],
   "source": [
    "df = pd.DataFrame({\"num\": [1, 2, 3, 1], \"letter\": [\"a\", \"b\", \"c\", \"d\"]})"
   ]
  },
  {
   "cell_type": "code",
   "execution_count": 4,
   "id": "b6af5193-c38f-42cc-ad84-0ab4bfa6e24f",
   "metadata": {},
   "outputs": [],
   "source": [
    "write_deltalake(\"tmp/my-unpartitioned-table\", df)"
   ]
  },
  {
   "cell_type": "code",
   "execution_count": 5,
   "id": "c428e0ef-5ff6-4b4d-b612-7d7ec744f4da",
   "metadata": {},
   "outputs": [
    {
     "data": {
      "text/html": [
       "<div>\n",
       "<style scoped>\n",
       "    .dataframe tbody tr th:only-of-type {\n",
       "        vertical-align: middle;\n",
       "    }\n",
       "\n",
       "    .dataframe tbody tr th {\n",
       "        vertical-align: top;\n",
       "    }\n",
       "\n",
       "    .dataframe thead th {\n",
       "        text-align: right;\n",
       "    }\n",
       "</style>\n",
       "<table border=\"1\" class=\"dataframe\">\n",
       "  <thead>\n",
       "    <tr style=\"text-align: right;\">\n",
       "      <th></th>\n",
       "      <th>path</th>\n",
       "      <th>size_bytes</th>\n",
       "      <th>modification_time</th>\n",
       "      <th>data_change</th>\n",
       "      <th>num_records</th>\n",
       "      <th>null_count.num</th>\n",
       "      <th>min.num</th>\n",
       "      <th>max.num</th>\n",
       "      <th>null_count.letter</th>\n",
       "      <th>min.letter</th>\n",
       "      <th>max.letter</th>\n",
       "    </tr>\n",
       "  </thead>\n",
       "  <tbody>\n",
       "    <tr>\n",
       "      <th>0</th>\n",
       "      <td>0-d07741ac-fc77-44ea-ab79-0954a1c4bbc8-0.parquet</td>\n",
       "      <td>875</td>\n",
       "      <td>2024-01-08 22:37:51.347</td>\n",
       "      <td>True</td>\n",
       "      <td>4</td>\n",
       "      <td>0</td>\n",
       "      <td>1</td>\n",
       "      <td>3</td>\n",
       "      <td>0</td>\n",
       "      <td>a</td>\n",
       "      <td>d</td>\n",
       "    </tr>\n",
       "  </tbody>\n",
       "</table>\n",
       "</div>"
      ],
      "text/plain": [
       "                                               path  size_bytes  \\\n",
       "0  0-d07741ac-fc77-44ea-ab79-0954a1c4bbc8-0.parquet         875   \n",
       "\n",
       "        modification_time  data_change  num_records  null_count.num  min.num  \\\n",
       "0 2024-01-08 22:37:51.347         True            4               0        1   \n",
       "\n",
       "   max.num  null_count.letter min.letter max.letter  \n",
       "0        3                  0          a          d  "
      ]
     },
     "execution_count": 5,
     "metadata": {},
     "output_type": "execute_result"
    }
   ],
   "source": [
    "dt = DeltaTable(\"tmp/my-unpartitioned-table\")\n",
    "dt.get_add_actions(flatten=True).to_pandas()"
   ]
  },
  {
   "cell_type": "markdown",
   "id": "efac1f09-485a-43b3-ba2c-0a74c87324bc",
   "metadata": {},
   "source": [
    "## Partitioned table"
   ]
  },
  {
   "cell_type": "code",
   "execution_count": 6,
   "id": "ab824b4f-1a71-4dbc-891f-6322beaa1ca0",
   "metadata": {},
   "outputs": [],
   "source": [
    "df = pd.DataFrame({\"num\": [1, 2, 3, 1], \"letter\": [\"a\", \"b\", \"c\", \"d\"]})"
   ]
  },
  {
   "cell_type": "code",
   "execution_count": 7,
   "id": "319d8c18-1512-4bb3-b44b-2c435a98472b",
   "metadata": {},
   "outputs": [],
   "source": [
    "write_deltalake(\"tmp/my-partitioned-table\", df, partition_by=[\"num\"])"
   ]
  },
  {
   "cell_type": "code",
   "execution_count": 8,
   "id": "79b63750-8b97-44e8-ae29-655a053679e3",
   "metadata": {},
   "outputs": [
    {
     "data": {
      "text/html": [
       "<div>\n",
       "<style scoped>\n",
       "    .dataframe tbody tr th:only-of-type {\n",
       "        vertical-align: middle;\n",
       "    }\n",
       "\n",
       "    .dataframe tbody tr th {\n",
       "        vertical-align: top;\n",
       "    }\n",
       "\n",
       "    .dataframe thead th {\n",
       "        text-align: right;\n",
       "    }\n",
       "</style>\n",
       "<table border=\"1\" class=\"dataframe\">\n",
       "  <thead>\n",
       "    <tr style=\"text-align: right;\">\n",
       "      <th></th>\n",
       "      <th>path</th>\n",
       "      <th>size_bytes</th>\n",
       "      <th>modification_time</th>\n",
       "      <th>data_change</th>\n",
       "      <th>partition.num</th>\n",
       "      <th>num_records</th>\n",
       "      <th>null_count.num</th>\n",
       "      <th>min.num</th>\n",
       "      <th>max.num</th>\n",
       "      <th>null_count.letter</th>\n",
       "      <th>min.letter</th>\n",
       "      <th>max.letter</th>\n",
       "    </tr>\n",
       "  </thead>\n",
       "  <tbody>\n",
       "    <tr>\n",
       "      <th>0</th>\n",
       "      <td>num=3/0-b4e748c0-44d9-4fe9-b1c3-657b7060e29d-0...</td>\n",
       "      <td>462</td>\n",
       "      <td>2024-01-08 22:42:19.201</td>\n",
       "      <td>True</td>\n",
       "      <td>3</td>\n",
       "      <td>1</td>\n",
       "      <td>None</td>\n",
       "      <td>None</td>\n",
       "      <td>None</td>\n",
       "      <td>0</td>\n",
       "      <td>c</td>\n",
       "      <td>c</td>\n",
       "    </tr>\n",
       "    <tr>\n",
       "      <th>1</th>\n",
       "      <td>num=1/0-b4e748c0-44d9-4fe9-b1c3-657b7060e29d-0...</td>\n",
       "      <td>472</td>\n",
       "      <td>2024-01-08 22:42:19.205</td>\n",
       "      <td>True</td>\n",
       "      <td>1</td>\n",
       "      <td>2</td>\n",
       "      <td>None</td>\n",
       "      <td>None</td>\n",
       "      <td>None</td>\n",
       "      <td>0</td>\n",
       "      <td>a</td>\n",
       "      <td>d</td>\n",
       "    </tr>\n",
       "    <tr>\n",
       "      <th>2</th>\n",
       "      <td>num=2/0-b4e748c0-44d9-4fe9-b1c3-657b7060e29d-0...</td>\n",
       "      <td>462</td>\n",
       "      <td>2024-01-08 22:42:19.205</td>\n",
       "      <td>True</td>\n",
       "      <td>2</td>\n",
       "      <td>1</td>\n",
       "      <td>None</td>\n",
       "      <td>None</td>\n",
       "      <td>None</td>\n",
       "      <td>0</td>\n",
       "      <td>b</td>\n",
       "      <td>b</td>\n",
       "    </tr>\n",
       "  </tbody>\n",
       "</table>\n",
       "</div>"
      ],
      "text/plain": [
       "                                                path  size_bytes  \\\n",
       "0  num=3/0-b4e748c0-44d9-4fe9-b1c3-657b7060e29d-0...         462   \n",
       "1  num=1/0-b4e748c0-44d9-4fe9-b1c3-657b7060e29d-0...         472   \n",
       "2  num=2/0-b4e748c0-44d9-4fe9-b1c3-657b7060e29d-0...         462   \n",
       "\n",
       "        modification_time  data_change  partition.num  num_records  \\\n",
       "0 2024-01-08 22:42:19.201         True              3            1   \n",
       "1 2024-01-08 22:42:19.205         True              1            2   \n",
       "2 2024-01-08 22:42:19.205         True              2            1   \n",
       "\n",
       "  null_count.num min.num max.num  null_count.letter min.letter max.letter  \n",
       "0           None    None    None                  0          c          c  \n",
       "1           None    None    None                  0          a          d  \n",
       "2           None    None    None                  0          b          b  "
      ]
     },
     "execution_count": 8,
     "metadata": {},
     "output_type": "execute_result"
    }
   ],
   "source": [
    "dt = DeltaTable(\"tmp/my-partitioned-table\")\n",
    "dt.get_add_actions(flatten=True).to_pandas()"
   ]
  }
 ],
 "metadata": {
  "kernelspec": {
   "display_name": "pyspark-340-delta-240",
   "language": "python",
   "name": "pyspark-340-delta-240"
  },
  "language_info": {
   "codemirror_mode": {
    "name": "ipython",
    "version": 3
   },
   "file_extension": ".py",
   "mimetype": "text/x-python",
   "name": "python",
   "nbconvert_exporter": "python",
   "pygments_lexer": "ipython3",
   "version": "3.9.16"
  }
 },
 "nbformat": 4,
 "nbformat_minor": 5
}
